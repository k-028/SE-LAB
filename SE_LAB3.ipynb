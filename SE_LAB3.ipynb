{
  "nbformat": 4,
  "nbformat_minor": 0,
  "metadata": {
    "colab": {
      "provenance": [],
      "authorship_tag": "ABX9TyM+lXr1blyGa3xd5WMWbIym",
      "include_colab_link": true
    },
    "kernelspec": {
      "name": "python3",
      "display_name": "Python 3"
    },
    "language_info": {
      "name": "python"
    }
  },
  "cells": [
    {
      "cell_type": "markdown",
      "metadata": {
        "id": "view-in-github",
        "colab_type": "text"
      },
      "source": [
        "<a href=\"https://colab.research.google.com/github/k-028/SE-LAB/blob/main/SE_LAB3.ipynb\" target=\"_parent\"><img src=\"https://colab.research.google.com/assets/colab-badge.svg\" alt=\"Open In Colab\"/></a>"
      ]
    },
    {
      "cell_type": "code",
      "execution_count": null,
      "metadata": {
        "id": "B3tdkBDMlHFo"
      },
      "outputs": [],
      "source": []
    },
    {
      "cell_type": "code",
      "source": [
        "from google.colab import drive\n",
        "drive.mount('/content/drive')"
      ],
      "metadata": {
        "colab": {
          "base_uri": "https://localhost:8080/"
        },
        "id": "k97H_Ox_lNvD",
        "outputId": "3482878f-57b5-4fd3-bcaf-ac5cee140055"
      },
      "execution_count": 4,
      "outputs": [
        {
          "output_type": "stream",
          "name": "stdout",
          "text": [
            "Drive already mounted at /content/drive; to attempt to forcibly remount, call drive.mount(\"/content/drive\", force_remount=True).\n"
          ]
        }
      ]
    },
    {
      "cell_type": "code",
      "source": [
        "file_path = '/content/TempHumiWind.csv'"
      ],
      "metadata": {
        "id": "0L64yDZlnBKi"
      },
      "execution_count": 12,
      "outputs": []
    },
    {
      "cell_type": "code",
      "source": [
        "import pandas as pd\n",
        "import os\n",
        "def load_and_clean_data(file_path):\n",
        "    \"\"\"Load and clean the dataset.\"\"\"\n",
        "    if os.path.exists(file_path):\n",
        "        try:\n",
        "            df = pd.read_csv(file_path)\n",
        "            df.columns = df.columns.str.strip()\n",
        "            print(\"Dataset loaded and cleaned successfully!\")\n",
        "            return df\n",
        "        except Exception as e:\n",
        "            print(\"Error loading the file:\", e)\n",
        "            return None\n",
        "    else:\n",
        "        print(f\"File does not exist at the path: {file_path}\")\n",
        "        return None"
      ],
      "metadata": {
        "id": "A4eoauh1lwON"
      },
      "execution_count": 13,
      "outputs": []
    },
    {
      "cell_type": "code",
      "source": [
        "def get_user_input():\n",
        "    \"\"\"Prompt the user to input city names.\"\"\"\n",
        "    user_input = input(\"\\nEnter city names separated by commas (e.g., Mumbai, Delhi): \")\n",
        "    return [city.strip() for city in user_input.split(\",\")]\n"
      ],
      "metadata": {
        "id": "HfKcigS8l6HM"
      },
      "execution_count": 14,
      "outputs": []
    },
    {
      "cell_type": "code",
      "source": [
        "def validate_cities(user_cities, valid_cities):\n",
        "    \"\"\"Validate if the entered cities exist in the dataset.\"\"\"\n",
        "    matched_cities = [city for city in user_cities if city in valid_cities]\n",
        "    if not matched_cities:\n",
        "        print(\"No valid cities found in the dataset. Exiting.\")\n",
        "        return []\n",
        "    else:\n",
        "        print(f\"\\nProcessing data for the following matched cities: {matched_cities}\")\n",
        "        return matched_cities"
      ],
      "metadata": {
        "id": "BH_UCM7El95D"
      },
      "execution_count": 15,
      "outputs": []
    },
    {
      "cell_type": "code",
      "source": [
        "def calculate_weather(temp, humidity, wind_speed):\n",
        "    \"\"\"Calculate weather value based on the given formula.\"\"\"\n",
        "    W = (0.5 * temp**2) - (0.2 * humidity) + (0.1 * wind_speed) - 15\n",
        "    return W\n",
        "\n",
        "def categorize_weather(W):\n",
        "    \"\"\"Categorize the weather based on the calculated value.\"\"\"\n",
        "    if W > 300:\n",
        "        return \"Cloudy\"\n",
        "    elif 200 < W <= 300:\n",
        "        return \"Sunny\"\n",
        "    else:\n",
        "        return \"Rainy\""
      ],
      "metadata": {
        "id": "bdTOx0B4mB6X"
      },
      "execution_count": 16,
      "outputs": []
    },
    {
      "cell_type": "code",
      "source": [
        "def process_and_output_weather(matched_cities, df, manual_input):\n",
        "    \"\"\"Process weather data for matched cities and display results.\"\"\"\n",
        "    for city in matched_cities:\n",
        "        if manual_input == 'yes':\n",
        "            print(f\"\\nEnter data for {city}:\")\n",
        "            temp = float(input(\"Enter Temperature (°C): \"))\n",
        "            humidity = float(input(\"Enter Humidity (%): \"))\n",
        "            wind_speed = float(input(\"Enter Wind Speed (m/s): \"))\n",
        "        else:\n",
        "            city_data = df[df[\"CITY\"] == city].iloc[0]\n",
        "            temp = city_data[\"TEMPERATURE\"]\n",
        "            humidity = city_data[\"HUMIDITY\"]\n",
        "            wind_speed = city_data[\"WIND SPEED\"]\n",
        "\n",
        "        modeled_weather = calculate_weather(temp, humidity, wind_speed)\n",
        "        weather_condition = categorize_weather(modeled_weather)\n",
        "\n",
        "        print(\n",
        "            f\"\\nCity: {city}\\n\"\n",
        "            f\"Temperature: {temp} °C\\n\"\n",
        "            f\"Humidity: {humidity} %\\n\"\n",
        "            f\"Wind Speed: {wind_speed} m/s\\n\"\n",
        "            f\"Calculated Weather Value (W): {modeled_weather:.2f}\\n\"\n",
        "            f\"Weather Condition: {weather_condition}\\n\"\n",
        "        )\n"
      ],
      "metadata": {
        "id": "cki9PGIcmGRP"
      },
      "execution_count": 17,
      "outputs": []
    },
    {
      "cell_type": "code",
      "source": [
        "def main():\n",
        "    \"\"\"Main function to run the entire process iteratively.\"\"\"\n",
        "    while True:\n",
        "        file_path = '/content/TempHumiWind.csv\\'\n",
        "        df = load_and_clean_data(file_path)\n",
        "        if df is None:\n",
        "            return\n",
        "        user_cities = get_user_input()\n",
        "\n",
        "        valid_cities = df[\"CITY\"].unique()\n",
        "        matched_cities = validate_cities(user_cities, valid_cities)\n",
        "\n",
        "        if not matched_cities:\n",
        "            continue\n",
        "        manual_input = input(\"\\nWould you like to manually input weather data for cities? (yes/no): \").strip().lower()\n",
        "        process_and_output_weather(matched_cities, df, manual_input)\n",
        "        another_round = input(\"\\nWould you like to process another set of cities? (yes/no): \").strip().lower()\n",
        "        if another_round != 'yes':\n",
        "            print(\"Exiting the program.\")\n",
        "            break\n",
        "\n",
        "if __name__ == \"__main__\":\n",
        "    main()"
      ],
      "metadata": {
        "colab": {
          "base_uri": "https://localhost:8080/"
        },
        "id": "3RTqaPoBmM_L",
        "outputId": "084c3cd3-85e4-44e1-9ebc-25a7d3a95ab6"
      },
      "execution_count": 18,
      "outputs": [
        {
          "output_type": "stream",
          "name": "stdout",
          "text": [
            "Dataset loaded and cleaned successfully!\n",
            "\n",
            "Enter city names separated by commas (e.g., Mumbai, Delhi): Mumbai\n",
            "\n",
            "Processing data for the following matched cities: ['Mumbai']\n",
            "\n",
            "Would you like to manually input weather data for cities? (yes/no): no\n",
            "\n",
            "City: Mumbai\n",
            "Temperature: 32 °C\n",
            "Humidity: 75 %\n",
            "Wind Speed: 5.0 m/s\n",
            "Calculated Weather Value (W): 482.50\n",
            "Weather Condition: Cloudy\n",
            "\n",
            "\n",
            "Would you like to process another set of cities? (yes/no): yes\n",
            "Dataset loaded and cleaned successfully!\n",
            "\n",
            "Enter city names separated by commas (e.g., Mumbai, Delhi): Mumbai\n",
            "\n",
            "Processing data for the following matched cities: ['Mumbai']\n",
            "\n",
            "Would you like to manually input weather data for cities? (yes/no): yes\n",
            "\n",
            "Enter data for Mumbai:\n",
            "Enter Temperature (°C): 35\n",
            "Enter Humidity (%): 20\n",
            "Enter Wind Speed (m/s): 25\n",
            "\n",
            "City: Mumbai\n",
            "Temperature: 35.0 °C\n",
            "Humidity: 20.0 %\n",
            "Wind Speed: 25.0 m/s\n",
            "Calculated Weather Value (W): 596.00\n",
            "Weather Condition: Cloudy\n",
            "\n",
            "\n",
            "Would you like to process another set of cities? (yes/no): no\n",
            "Exiting the program.\n"
          ]
        }
      ]
    }
  ]
}